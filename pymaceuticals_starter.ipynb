{
 "cells": [
  {
   "cell_type": "markdown",
   "metadata": {},
   "source": [
    "## Observations and Insights"
   ]
  },
  {
   "cell_type": "markdown",
   "metadata": {},
   "source": []
  },
  {
   "cell_type": "markdown",
   "metadata": {},
   "source": [
    "## Findings\n",
    "\n",
    "* Based on the \"Average tumor volume\" and \"Std Tumor Volume\" (Summary Statistics chart), Capomulin and Ramicane seem to be the most effective treatments due to its lower values (≈40mm3 and ≈4.5mm3 respectively). This, without taking into account the starting tumor volume of each mouse in each regimen.\n",
    "\n",
    "\n",
    "* Knowing that every drug regimen received the same number of test subjects (25 mice, pending confirmation for Propriva (26) and Stelasyn(24)) and looking at the total number of observations per regimen (Total data points per Drug Regimen bar chart), we can assume that mice treated with Capomulin and Ramicane survived longer than others because these two regimen have the greatest number of observations(+200).\n",
    "\n",
    "\n",
    "* As seen in the Tumor volume average VS mouse weight figure, there is a notable correlation between the mouse weight and its tumor weight. The heavier the mouse, the bigger the tumor. So, instead of only looking at the final tumor volume weight, we have to take into account the initial tumor volume to be able to measure how much the tumor increase or decrease in each case and end up with conclusive answers about the effectiveness of each treatment.\n",
    "\n",
    "\n",
    "* __Bonus:__ I found out a \"Mouse ID\" with a particular record. __\"g989\"__ registers two observations for each \"Timepoint\" from \"0\" to \"20\" values. In each pair of duplicated records, the only different value is \"Tumor Volume (mm3)\". That make me suppose that we're actually talking about two mice. One that survived until timepoint 20 and the other made it up to timepoint 35. That would also explain why Propriva had 26 mice and Stelasyn 24 mice."
   ]
  },
  {
   "cell_type": "markdown",
   "metadata": {},
   "source": [
    "## Dependencies and starter code"
   ]
  },
  {
   "cell_type": "code",
   "execution_count": 1,
   "metadata": {},
   "outputs": [
    {
     "data": {
      "text/html": [
       "<div>\n",
       "<style scoped>\n",
       "    .dataframe tbody tr th:only-of-type {\n",
       "        vertical-align: middle;\n",
       "    }\n",
       "\n",
       "    .dataframe tbody tr th {\n",
       "        vertical-align: top;\n",
       "    }\n",
       "\n",
       "    .dataframe thead th {\n",
       "        text-align: right;\n",
       "    }\n",
       "</style>\n",
       "<table border=\"1\" class=\"dataframe\">\n",
       "  <thead>\n",
       "    <tr style=\"text-align: right;\">\n",
       "      <th></th>\n",
       "      <th>Mouse ID</th>\n",
       "      <th>Drug Regimen</th>\n",
       "      <th>Sex</th>\n",
       "      <th>Age_months</th>\n",
       "      <th>Weight (g)</th>\n",
       "      <th>Timepoint</th>\n",
       "      <th>Tumor Volume (mm3)</th>\n",
       "      <th>Metastatic Sites</th>\n",
       "    </tr>\n",
       "  </thead>\n",
       "  <tbody>\n",
       "    <tr>\n",
       "      <td>0</td>\n",
       "      <td>k403</td>\n",
       "      <td>Ramicane</td>\n",
       "      <td>Male</td>\n",
       "      <td>21</td>\n",
       "      <td>16</td>\n",
       "      <td>0</td>\n",
       "      <td>45.000000</td>\n",
       "      <td>0</td>\n",
       "    </tr>\n",
       "    <tr>\n",
       "      <td>1</td>\n",
       "      <td>k403</td>\n",
       "      <td>Ramicane</td>\n",
       "      <td>Male</td>\n",
       "      <td>21</td>\n",
       "      <td>16</td>\n",
       "      <td>5</td>\n",
       "      <td>38.825898</td>\n",
       "      <td>0</td>\n",
       "    </tr>\n",
       "    <tr>\n",
       "      <td>2</td>\n",
       "      <td>k403</td>\n",
       "      <td>Ramicane</td>\n",
       "      <td>Male</td>\n",
       "      <td>21</td>\n",
       "      <td>16</td>\n",
       "      <td>10</td>\n",
       "      <td>35.014271</td>\n",
       "      <td>1</td>\n",
       "    </tr>\n",
       "    <tr>\n",
       "      <td>3</td>\n",
       "      <td>k403</td>\n",
       "      <td>Ramicane</td>\n",
       "      <td>Male</td>\n",
       "      <td>21</td>\n",
       "      <td>16</td>\n",
       "      <td>15</td>\n",
       "      <td>34.223992</td>\n",
       "      <td>1</td>\n",
       "    </tr>\n",
       "    <tr>\n",
       "      <td>4</td>\n",
       "      <td>k403</td>\n",
       "      <td>Ramicane</td>\n",
       "      <td>Male</td>\n",
       "      <td>21</td>\n",
       "      <td>16</td>\n",
       "      <td>20</td>\n",
       "      <td>32.997729</td>\n",
       "      <td>1</td>\n",
       "    </tr>\n",
       "  </tbody>\n",
       "</table>\n",
       "</div>"
      ],
      "text/plain": [
       "  Mouse ID Drug Regimen   Sex  Age_months  Weight (g)  Timepoint  \\\n",
       "0     k403     Ramicane  Male          21          16          0   \n",
       "1     k403     Ramicane  Male          21          16          5   \n",
       "2     k403     Ramicane  Male          21          16         10   \n",
       "3     k403     Ramicane  Male          21          16         15   \n",
       "4     k403     Ramicane  Male          21          16         20   \n",
       "\n",
       "   Tumor Volume (mm3)  Metastatic Sites  \n",
       "0           45.000000                 0  \n",
       "1           38.825898                 0  \n",
       "2           35.014271                 1  \n",
       "3           34.223992                 1  \n",
       "4           32.997729                 1  "
      ]
     },
     "execution_count": 1,
     "metadata": {},
     "output_type": "execute_result"
    }
   ],
   "source": [
    "# Dependencies and Setup\n",
    "import matplotlib.pyplot as plt\n",
    "import pandas as pd\n",
    "import scipy.stats as st\n",
    "import numpy as np\n",
    "import random\n",
    "\n",
    "\n",
    "# Study data files\n",
    "mouse_metadata = \"data/Mouse_metadata.csv\"\n",
    "study_results = \"data/Study_results.csv\"\n",
    "\n",
    "# Read the mouse data and the study results\n",
    "mouse_metadata = pd.read_csv(mouse_metadata)\n",
    "study_results = pd.read_csv(study_results)\n",
    "\n",
    "# Combine the data into a single dataset\n",
    "mouse_sty = pd.merge(mouse_metadata, study_results, on = \"Mouse ID\", how = \"outer\")\n",
    "mouse_sty.head()"
   ]
  },
  {
   "cell_type": "markdown",
   "metadata": {},
   "source": [
    "## Summary statistics"
   ]
  },
  {
   "cell_type": "code",
   "execution_count": 2,
   "metadata": {},
   "outputs": [],
   "source": [
    "# Generate a summary statistics table of mean, median, variance, standard deviation, and SEM of the tumor volume for each regimen"
   ]
  },
  {
   "cell_type": "code",
   "execution_count": 3,
   "metadata": {},
   "outputs": [
    {
     "data": {
      "text/html": [
       "<div>\n",
       "<style scoped>\n",
       "    .dataframe tbody tr th:only-of-type {\n",
       "        vertical-align: middle;\n",
       "    }\n",
       "\n",
       "    .dataframe tbody tr th {\n",
       "        vertical-align: top;\n",
       "    }\n",
       "\n",
       "    .dataframe thead th {\n",
       "        text-align: right;\n",
       "    }\n",
       "</style>\n",
       "<table border=\"1\" class=\"dataframe\">\n",
       "  <thead>\n",
       "    <tr style=\"text-align: right;\">\n",
       "      <th></th>\n",
       "      <th>Average Tumor Volume</th>\n",
       "      <th>Median Tumor Volume</th>\n",
       "      <th>Variance Tumor Volume</th>\n",
       "      <th>Std Tumor Volume</th>\n",
       "      <th>SEM Tumor Volume</th>\n",
       "    </tr>\n",
       "    <tr>\n",
       "      <th>Drug Regimen</th>\n",
       "      <th></th>\n",
       "      <th></th>\n",
       "      <th></th>\n",
       "      <th></th>\n",
       "      <th></th>\n",
       "    </tr>\n",
       "  </thead>\n",
       "  <tbody>\n",
       "    <tr>\n",
       "      <td>Capomulin</td>\n",
       "      <td>40.675741</td>\n",
       "      <td>41.557809</td>\n",
       "      <td>24.839296</td>\n",
       "      <td>4.994774</td>\n",
       "      <td>5.353166</td>\n",
       "    </tr>\n",
       "    <tr>\n",
       "      <td>Ceftamin</td>\n",
       "      <td>52.591172</td>\n",
       "      <td>51.776157</td>\n",
       "      <td>39.069446</td>\n",
       "      <td>6.268188</td>\n",
       "      <td>7.039098</td>\n",
       "    </tr>\n",
       "    <tr>\n",
       "      <td>Infubinol</td>\n",
       "      <td>52.884795</td>\n",
       "      <td>51.820584</td>\n",
       "      <td>42.886388</td>\n",
       "      <td>6.567243</td>\n",
       "      <td>5.140104</td>\n",
       "    </tr>\n",
       "    <tr>\n",
       "      <td>Ketapril</td>\n",
       "      <td>55.235638</td>\n",
       "      <td>53.698743</td>\n",
       "      <td>68.188930</td>\n",
       "      <td>8.279709</td>\n",
       "      <td>8.140703</td>\n",
       "    </tr>\n",
       "    <tr>\n",
       "      <td>Naftisol</td>\n",
       "      <td>54.331565</td>\n",
       "      <td>52.509285</td>\n",
       "      <td>65.817708</td>\n",
       "      <td>8.134708</td>\n",
       "      <td>10.237979</td>\n",
       "    </tr>\n",
       "    <tr>\n",
       "      <td>Placebo</td>\n",
       "      <td>54.033581</td>\n",
       "      <td>52.288934</td>\n",
       "      <td>60.830138</td>\n",
       "      <td>7.821003</td>\n",
       "      <td>7.726492</td>\n",
       "    </tr>\n",
       "    <tr>\n",
       "      <td>Propriva</td>\n",
       "      <td>52.322552</td>\n",
       "      <td>50.854632</td>\n",
       "      <td>42.088020</td>\n",
       "      <td>6.507770</td>\n",
       "      <td>5.018149</td>\n",
       "    </tr>\n",
       "    <tr>\n",
       "      <td>Ramicane</td>\n",
       "      <td>40.216745</td>\n",
       "      <td>40.673236</td>\n",
       "      <td>23.383692</td>\n",
       "      <td>4.846308</td>\n",
       "      <td>5.037560</td>\n",
       "    </tr>\n",
       "    <tr>\n",
       "      <td>Stelasyn</td>\n",
       "      <td>54.233149</td>\n",
       "      <td>52.431737</td>\n",
       "      <td>59.122106</td>\n",
       "      <td>7.710419</td>\n",
       "      <td>7.958174</td>\n",
       "    </tr>\n",
       "    <tr>\n",
       "      <td>Zoniferol</td>\n",
       "      <td>53.236507</td>\n",
       "      <td>51.818479</td>\n",
       "      <td>48.266689</td>\n",
       "      <td>6.966589</td>\n",
       "      <td>6.762418</td>\n",
       "    </tr>\n",
       "  </tbody>\n",
       "</table>\n",
       "</div>"
      ],
      "text/plain": [
       "              Average Tumor Volume  Median Tumor Volume  \\\n",
       "Drug Regimen                                              \n",
       "Capomulin                40.675741            41.557809   \n",
       "Ceftamin                 52.591172            51.776157   \n",
       "Infubinol                52.884795            51.820584   \n",
       "Ketapril                 55.235638            53.698743   \n",
       "Naftisol                 54.331565            52.509285   \n",
       "Placebo                  54.033581            52.288934   \n",
       "Propriva                 52.322552            50.854632   \n",
       "Ramicane                 40.216745            40.673236   \n",
       "Stelasyn                 54.233149            52.431737   \n",
       "Zoniferol                53.236507            51.818479   \n",
       "\n",
       "              Variance Tumor Volume  Std Tumor Volume  SEM Tumor Volume  \n",
       "Drug Regimen                                                             \n",
       "Capomulin                 24.839296          4.994774          5.353166  \n",
       "Ceftamin                  39.069446          6.268188          7.039098  \n",
       "Infubinol                 42.886388          6.567243          5.140104  \n",
       "Ketapril                  68.188930          8.279709          8.140703  \n",
       "Naftisol                  65.817708          8.134708         10.237979  \n",
       "Placebo                   60.830138          7.821003          7.726492  \n",
       "Propriva                  42.088020          6.507770          5.018149  \n",
       "Ramicane                  23.383692          4.846308          5.037560  \n",
       "Stelasyn                  59.122106          7.710419          7.958174  \n",
       "Zoniferol                 48.266689          6.966589          6.762418  "
      ]
     },
     "execution_count": 3,
     "metadata": {},
     "output_type": "execute_result"
    }
   ],
   "source": [
    "regimen_stats = pd.DataFrame({\n",
    "    \"Average Tumor Volume\" : mouse_sty.groupby(\"Drug Regimen\")[\"Tumor Volume (mm3)\"].mean(),\n",
    "    \"Median Tumor Volume\" :mouse_sty.groupby(\"Drug Regimen\")[\"Tumor Volume (mm3)\"].median(),\n",
    "    \"Variance Tumor Volume\" : mouse_sty.groupby(\"Drug Regimen\")[\"Tumor Volume (mm3)\"].var(ddof = 0),\n",
    "    \"Std Tumor Volume\" : mouse_sty.groupby(\"Drug Regimen\")[\"Tumor Volume (mm3)\"].std(),\n",
    "    \"SEM Tumor Volume\" : mouse_sty.sample(189).groupby(\"Drug Regimen\")[\"Tumor Volume (mm3)\"].std()\n",
    "    })\n",
    "regimen_stats"
   ]
  },
  {
   "cell_type": "markdown",
   "metadata": {},
   "source": [
    "## Bar plots"
   ]
  },
  {
   "cell_type": "code",
   "execution_count": 4,
   "metadata": {},
   "outputs": [
    {
     "data": {
      "image/png": "[encoded data removed]",
      "text/plain": [
       "<Figure size 576x288 with 1 Axes>"
      ]
     },
     "metadata": {
      "needs_background": "light"
     },
     "output_type": "display_data"
    }
   ],
   "source": [
    "# Generate a bar plot showing number of data points for each treatment regimen using pandas\n",
    "plt.figure(figsize=(8,4))\n",
    "mouse_sty.groupby(\"Drug Regimen\")[\"Mouse ID\"].count().plot(kind = \"bar\", width = .7, color = \"#eba834\")\n",
    "plt.grid(axis = \"y\", alpha = .5)\n",
    "plt.title(\"Total data points per Drug Regimen\", fontsize = 15)\n",
    "plt.xticks(rotation = 45)\n",
    "plt.ylabel(\"Data points\")\n",
    "plt.show()"
   ]
  },
  {
   "cell_type": "code",
   "execution_count": 5,
   "metadata": {},
   "outputs": [
    {
     "data": {
      "image/png": "[encoded data removed]",
      "text/plain": [
       "<Figure size 576x288 with 1 Axes>"
      ]
     },
     "metadata": {
      "needs_background": "light"
     },
     "output_type": "display_data"
    }
   ],
   "source": [
    "# Generate a bar plot showing number of data points for each treatment regimen using pyplot\n",
    "regimen_count = mouse_sty.groupby(\"Drug Regimen\")[\"Mouse ID\"].count()\n",
    "regimen_data_points = pd.DataFrame({\"Data Points\" : regimen_count})\n",
    "x_axis= np.arange(len(regimen_data_points))\n",
    "\n",
    "plt.figure(figsize=(8,4))\n",
    "plt.bar(x_axis, regimen_count, width = .7, color = \"#eba834\")\n",
    "plt.grid(axis = \"y\", alpha = .5)\n",
    "plt.title(\"Total data points per Drug Regimen\", fontsize = 15)\n",
    "plt.ylabel(\"Data points\")\n",
    "plt.xlabel(\"Drug Regimen\")\n",
    "plt.xticks(x_axis, regimen_data_points.index, rotation = 45)\n",
    "plt.xlim(-.6, len(x_axis) - .4)\n",
    "plt.show()\n"
   ]
  },
  {
   "cell_type": "markdown",
   "metadata": {},
   "source": [
    "## Pie plots"
   ]
  },
  {
   "cell_type": "code",
   "execution_count": 6,
   "metadata": {},
   "outputs": [
    {
     "data": {
      "image/png": "[encoded data removed]",
      "text/plain": [
       "<Figure size 432x288 with 1 Axes>"
      ]
     },
     "metadata": {},
     "output_type": "display_data"
    }
   ],
   "source": [
    "#Generate a pie plot showing the distribution of female versus male mice using pandas\n",
    "mouse_sty.loc[:,[\"Mouse ID\", \"Sex\"]].drop_duplicates()[\"Sex\"].value_counts().plot(kind = \"pie\", autopct=\"%1.1f%%\",\n",
    "                                                                                  startangle = 90, shadow = True,\n",
    "                                                                                  colors = [\"darkorange\", \"turquoise\"],\n",
    "                                                                                  explode = (.1,0))\n",
    "plt.title(\"Sex mouse distribution\", fontsize = 15)\n",
    "plt.ylabel(\"\")\n",
    "plt.show()"
   ]
  },
  {
   "cell_type": "code",
   "execution_count": 7,
   "metadata": {},
   "outputs": [
    {
     "data": {
      "image/png": "[encoded data removed]",
      "text/plain": [
       "<Figure size 432x288 with 1 Axes>"
      ]
     },
     "metadata": {},
     "output_type": "display_data"
    }
   ],
   "source": [
    "#Generate a pie plot showing the distribution of female versus male mice using pyplot\n",
    "mouse_sex = mouse_sty.loc[:,[\"Mouse ID\", \"Sex\"]]\n",
    "mouse_unique = mouse_sex.drop_duplicates()\n",
    "mouse_sex_dist = mouse_unique[\"Sex\"].value_counts()\n",
    "#print(mouse_sex_dist)\n",
    "\n",
    "plt.pie(mouse_sex_dist, autopct=\"%1.1f%%\",\n",
    "        startangle = 90, shadow = True,\n",
    "        colors = [\"darkorange\", \"turquoise\"],\n",
    "       labels = mouse_sex_dist.keys(), explode = (.1,0))\n",
    "plt.title(\"Sex mouse distribution\", fontsize = 15)\n",
    "\n",
    "plt.show()"
   ]
  },
  {
   "cell_type": "markdown",
   "metadata": {},
   "source": [
    "## Quartiles, outliers and boxplots"
   ]
  },
  {
   "cell_type": "code",
   "execution_count": 8,
   "metadata": {},
   "outputs": [
    {
     "name": "stdout",
     "output_type": "stream",
     "text": [
      "CAPOMULIN\n",
      "The lower quartile of Capomulin final tumor is: 32.377\n",
      "The upper quartile of Capomulin final tumor is: 40.159\n",
      "The interquartile range is 7.782\n",
      "The lower bound is 20.705\n",
      "The upper bound is 51.832\n",
      "0 potential outliers were found below the lower bound:[]\n",
      "0 potential outliers were found above the upper bound:[]\n",
      "\n",
      "RAMICANE\n",
      "The lower quartile of Ramicane final tumor is: 31.56\n",
      "The upper quartile of Ramicane final tumor is: 40.659\n",
      "The interquartile range is 9.099\n",
      "The lower bound is 17.913\n",
      "The upper bound is 54.307\n",
      "0 potential outliers were found below the lower bound:[]\n",
      "0 potential outliers were found above the upper bound:[]\n",
      "\n",
      "INFUBINOL\n",
      "The lower quartile of Infubinol final tumor is: 54.049\n",
      "The upper quartile of Infubinol final tumor is: 65.526\n",
      "The interquartile range is 11.477\n",
      "The lower bound is 36.833\n",
      "The upper bound is 82.741\n",
      "1 potential outliers were found below the lower bound:[36.321345799999996]\n",
      "0 potential outliers were found above the upper bound:[]\n",
      "\n",
      "CEFTAMIN\n",
      "The lower quartile of Ceftamin final tumor is: 48.722\n",
      "The upper quartile of Ceftamin final tumor is: 64.3\n",
      "The interquartile range is 15.578\n",
      "The lower bound is 25.355\n",
      "The upper bound is 87.666\n",
      "0 potential outliers were found below the lower bound:[]\n",
      "0 potential outliers were found above the upper bound:[]\n",
      "\n"
     ]
    }
   ],
   "source": [
    "# Calculate the final tumor volume of each mouse across four of the most promising treatment regimens:\n",
    "#Capomulin, Ramicane, Infubinol, and Ceftamin. Calculate the IQR and quantitatively determine\n",
    "#if there are any potential outliers.\n",
    "    \n",
    "#Create an kind of \"index\" to filter only the last timepoint recorded for each mouse\n",
    "index = mouse_sty.groupby([\"Mouse ID\"])[\"Timepoint\"].transform(max) == mouse_sty[\"Timepoint\"]\n",
    "tumor_last_record = mouse_sty[index]\n",
    "#print(index)\n",
    "\n",
    "def outliers_by_regimen(regimen_name):\n",
    "    tumor_last_record_regimen = tumor_last_record.loc[tumor_last_record[\"Drug Regimen\"] == regimen_name]\n",
    "    \n",
    "    quartiles = tumor_last_record_regimen[\"Tumor Volume (mm3)\"].quantile([.25, .5, .75])\n",
    "    lowerq, upperq = quartiles[0.25], quartiles[0.75]\n",
    "    iqr = upperq - lowerq\n",
    "    \n",
    "    lower_bound = lowerq - (1.5 * iqr)\n",
    "    upper_bound = upperq + (1.5 * iqr)\n",
    "    \n",
    "    tumor_volume = tumor_last_record_regimen[\"Tumor Volume (mm3)\"]\n",
    "    lower_outliers = [tumor for tumor in tumor_volume if tumor < lower_bound]\n",
    "    upper_outliers = [tumor for tumor in tumor_volume if tumor > upper_bound]\n",
    "    \n",
    "    print(\n",
    "        f\"{regimen_name.upper()}\\n\"\n",
    "        f\"The lower quartile of {regimen_name} final tumor is: {round(lowerq, 3)}\\n\"\n",
    "        f\"The upper quartile of {regimen_name} final tumor is: {round(upperq, 3)}\\n\"\n",
    "        f\"The interquartile range is {round(iqr, 3)}\\n\"\n",
    "        f\"The lower bound is {round(lower_bound, 3)}\\n\"\n",
    "        f\"The upper bound is {round(upper_bound, 3)}\\n\"\n",
    "        f\"{len(lower_outliers)} potential outliers were found below the lower bound:{lower_outliers}\\n\"\n",
    "        f\"{len(upper_outliers)} potential outliers were found above the upper bound:{upper_outliers}\\n\"\n",
    "         )\n",
    "    \n",
    "outliers_by_regimen(\"Capomulin\")\n",
    "outliers_by_regimen(\"Ramicane\")\n",
    "outliers_by_regimen(\"Infubinol\")\n",
    "outliers_by_regimen(\"Ceftamin\")"
   ]
  },
  {
   "cell_type": "code",
   "execution_count": 9,
   "metadata": {},
   "outputs": [
    {
     "data": {
      "image/png": "[encoded data removed]",
      "text/plain": [
       "<Figure size 576x576 with 1 Axes>"
      ]
     },
     "metadata": {
      "needs_background": "light"
     },
     "output_type": "display_data"
    }
   ],
   "source": [
    "# Generate a box plot of the final tumor volume of each mouse across four regimens of interest\n",
    "#Capomulin, Ramicane, Infubinol, and Ceftamin\n",
    "tumor_last_record_cap = tumor_last_record.loc[tumor_last_record[\"Drug Regimen\"] == \"Capomulin\"]\n",
    "final_tumor_volume_cap = tumor_last_record_cap[\"Tumor Volume (mm3)\"]\n",
    "\n",
    "tumor_last_record_ram = tumor_last_record.loc[tumor_last_record[\"Drug Regimen\"] == \"Ramicane\"]\n",
    "final_tumor_volume_ram = tumor_last_record_ram[\"Tumor Volume (mm3)\"]\n",
    "\n",
    "tumor_last_record_inf = tumor_last_record.loc[tumor_last_record[\"Drug Regimen\"] == \"Infubinol\"]\n",
    "final_tumor_volume_inf = tumor_last_record_inf[\"Tumor Volume (mm3)\"]\n",
    "\n",
    "tumor_last_record_cef = tumor_last_record.loc[tumor_last_record[\"Drug Regimen\"] == \"Ceftamin\"]\n",
    "final_tumor_volume_cef = tumor_last_record_cef[\"Tumor Volume (mm3)\"]\n",
    "\n",
    "data = [final_tumor_volume_cap, final_tumor_volume_ram, final_tumor_volume_inf, final_tumor_volume_cef]\n",
    "labels= [\"Capomulin\", \"Ramicane\", \"Infubinol\", \"Ceftamin\"]\n",
    "blue_dia = {\"markerfacecolor\" : \"b\", \"marker\" : \"D\"}\n",
    "boxprops = {\"linewidth\" : 3, \"color\" : \"#eb345e\"}\n",
    "\n",
    "\n",
    "fig1, ax1 = plt.subplots(figsize = (8,8))\n",
    "ax1.boxplot(data, labels = labels, flierprops = blue_dia, boxprops = boxprops)\n",
    "ax1.grid(axis = \"y\", alpha = .5)\n",
    "ax1.set_title(\"Final tumor volume\", fontsize = 15)\n",
    "ax1.set_ylabel(\"Tumor volume (mm3)\")\n",
    "ax1.set_xlabel(\"Drug Regimen\", labelpad = 12)\n",
    "plt.show()"
   ]
  },
  {
   "cell_type": "markdown",
   "metadata": {},
   "source": [
    "## Line and scatter plots"
   ]
  },
  {
   "cell_type": "code",
   "execution_count": 10,
   "metadata": {},
   "outputs": [
    {
     "data": {
      "image/png": "[encoded data removed]",
      "text/plain": [
       "<Figure size 432x288 with 1 Axes>"
      ]
     },
     "metadata": {
      "needs_background": "light"
     },
     "output_type": "display_data"
    }
   ],
   "source": [
    "# Generate a line plot of time point versus tumor volume for a mouse treated with Capomulin\n",
    "\n",
    "mouse_cap = mouse_sty.loc[(mouse_sty[\"Drug Regimen\"] == \"Capomulin\") & (mouse_sty[\"Timepoint\"] == 45),\n",
    "                          [\"Mouse ID\", \"Drug Regimen\", \"Timepoint\"]]\n",
    "             \n",
    "random_mouse_cap = random.choice(list(mouse_cap[\"Mouse ID\"]))\n",
    "#print(random_mouse_cap)\n",
    "\n",
    "mouse_data = mouse_sty.loc[mouse_sty[\"Mouse ID\"] == random_mouse_cap,]\n",
    "#print(mouse_data[\"Tumor Volume (mm3)\"])\n",
    "\n",
    "x_axis = np.arange(0,50,5)\n",
    "plt.plot(x_axis, mouse_data[\"Tumor Volume (mm3)\"],\n",
    "        color = \"#bd3fdf\",\n",
    "        marker = \"D\",\n",
    "        markersize = 6,\n",
    "        linestyle = \"dashdot\",\n",
    "        linewidth = 1.5)\n",
    "\n",
    "plt.xticks(np.arange(0, 50, step=5))\n",
    "plt.grid(axis = \"y\", alpha = .5)\n",
    "plt.xlim(0,45)\n",
    "\n",
    "plt.xlabel(\"Time points\")\n",
    "plt.ylabel(\"Tumor volume (mm3)\")\n",
    "plt.figtext(.5,.95,\"Tumor volume evolution\", fontsize = 15, ha=\"center\")\n",
    "plt.figtext(.5,.9, f\"Mouse ID: {random_mouse_cap}  |  Drug Regimen: Capomulin\", ha = \"center\")\n",
    "plt.show()"
   ]
  },
  {
   "cell_type": "code",
   "execution_count": 11,
   "metadata": {
    "scrolled": true
   },
   "outputs": [
    {
     "data": {
      "image/png": "[encoded data removed]",
      "text/plain": [
       "<Figure size 432x288 with 1 Axes>"
      ]
     },
     "metadata": {
      "needs_background": "light"
     },
     "output_type": "display_data"
    }
   ],
   "source": [
    "# Generate a scatter plot of mouse weight versus average tumor volume for the Capomulin regimen\n",
    "mouse_cap_ave_tweight = mouse_sty.loc[mouse_sty[\"Drug Regimen\"] == \"Capomulin\"].groupby(\"Mouse ID\")[\"Tumor Volume (mm3)\"].mean()\n",
    "mouse_cap_ave_tweight = pd.DataFrame({\"Tumor Volume Average (mm3)\" : mouse_cap_ave_tweight})\n",
    "#print(mouse_cap_ave_tweight)\n",
    "\n",
    "mouse_cap_weight = mouse_sty.loc[mouse_sty[\"Drug Regimen\"] == \"Capomulin\", [\"Mouse ID\", \"Weight (g)\"]].drop_duplicates()\n",
    "mouse_cap_weight = mouse_cap_weight.set_index([\"Mouse ID\"])\n",
    "#print(mouse_cap_weight)\n",
    "\n",
    "mouse_cap_both_weights = pd.merge(mouse_cap_weight, mouse_cap_ave_tweight, on = \"Mouse ID\")\n",
    "#print(mouse_cap_both_weights)\n",
    "\n",
    "plt.scatter(mouse_cap_both_weights[\"Weight (g)\"], mouse_cap_both_weights[\"Tumor Volume Average (mm3)\"],\n",
    "           marker=\"H\",\n",
    "           edgecolors = \"#333333\",\n",
    "           c=mouse_cap_both_weights[\"Weight (g)\"],\n",
    "           s= 80)\n",
    "\n",
    "plt.grid(alpha = .6)\n",
    "plt.xticks(np.arange(15, 26, step=1))\n",
    "\n",
    "plt.figtext(.5,.95,\"Tumor volume average VS mouse weight\", fontsize = 15, ha=\"center\")\n",
    "plt.figtext(.5,.9, \"Drug Regimen: Capomulin\", ha = \"center\")\n",
    "plt.xlabel(\"Weight (g)\")\n",
    "plt.ylabel(\"Tumor Volume Average (mm3)\")\n",
    "\n",
    "plt.show()\n"
   ]
  },
  {
   "cell_type": "code",
   "execution_count": 12,
   "metadata": {},
   "outputs": [
    {
     "name": "stdout",
     "output_type": "stream",
     "text": [
      "----------------\n",
      "The correlation between mouse weight and average tumor volume for Capomulin drug regimen is 0.842\n",
      "----------------\n"
     ]
    }
   ],
   "source": [
    "# Calculate the correlation coefficient and linear regression model for mouse weight and average tumor volume for the Capomulin regimen\n",
    "weight_cap = mouse_cap_both_weights[\"Weight (g)\"]\n",
    "tumor_ave_weight = mouse_cap_both_weights[\"Tumor Volume Average (mm3)\"]\n",
    "\n",
    "#Correlation coefficient\n",
    "correlation = st.pearsonr(weight_cap,tumor_ave_weight)\n",
    "print(\"----------------\\n\"\n",
    "      f\"The correlation between mouse weight and average tumor volume for Capomulin drug regimen is {round(correlation[0],3)}\\n\"\n",
    "     \"----------------\")\n",
    "\n",
    "#Linear regression\n",
    "(slope, intercept, rvalue, pvalue, stderr) = st.linregress(weight_cap, tumor_ave_weight)\n",
    "regress_values = weight_cap * slope + intercept\n",
    "line_eq = \"y = \" + str(round(slope,2)) + \"x + \" + str(round(intercept,2))"
   ]
  },
  {
   "cell_type": "code",
   "execution_count": 13,
   "metadata": {},
   "outputs": [
    {
     "data": {
      "image/png": "[encoded data removed]",
      "text/plain": [
       "<Figure size 432x288 with 1 Axes>"
      ]
     },
     "metadata": {
      "needs_background": "light"
     },
     "output_type": "display_data"
    }
   ],
   "source": [
    "plt.scatter(mouse_cap_both_weights[\"Weight (g)\"], mouse_cap_both_weights[\"Tumor Volume Average (mm3)\"],\n",
    "           marker=\"H\",\n",
    "           edgecolors = \"#333333\",\n",
    "           c=mouse_cap_both_weights[\"Weight (g)\"],\n",
    "           s= 80)\n",
    "\n",
    "plt.grid(alpha = .6)\n",
    "plt.xticks(np.arange(15, 26, step=1))\n",
    "plt.figtext(.5,.95,\"Tumor volume average VS mouse weight\", fontsize = 15, ha=\"center\")\n",
    "plt.figtext(.5,.9, \"Drug Regimen: Capomulin\", ha = \"center\")\n",
    "plt.xlabel(\"Weight (g)\")\n",
    "plt.ylabel(\"Tumor Volume Average (mm3)\")\n",
    "\n",
    "#Plot linear regression\n",
    "plt.plot(weight_cap, regress_values, \"r-\")\n",
    "plt.figtext(.5,.3, line_eq, color = \"r\", fontsize = 15)\n",
    "\n",
    "plt.show()"
   ]
  },
  {
   "cell_type": "markdown",
   "metadata": {},
   "source": [
    "## +++++Annexes +++++"
   ]
  },
  {
   "cell_type": "code",
   "execution_count": 14,
   "metadata": {},
   "outputs": [
    {
     "name": "stdout",
     "output_type": "stream",
     "text": [
      "250\n",
      "249\n"
     ]
    },
    {
     "data": {
      "text/plain": [
       "g989    2\n",
       "p189    1\n",
       "s710    1\n",
       "k754    1\n",
       "x402    1\n",
       "       ..\n",
       "w151    1\n",
       "e227    1\n",
       "k510    1\n",
       "c302    1\n",
       "r701    1\n",
       "Name: Mouse ID, Length: 249, dtype: int64"
      ]
     },
     "execution_count": 14,
     "metadata": {},
     "output_type": "execute_result"
    }
   ],
   "source": [
    "#TO TEST IF THERE ARE DUPLICATED RECORDS OF \"MOUSE ID\"\n",
    "two = mouse_sty.loc[mouse_sty[\"Timepoint\"] == 0, [\"Mouse ID\"]]\n",
    "three = two[\"Mouse ID\"].unique()\n",
    "\n",
    "print(len(two))\n",
    "print(len(three))\n",
    "\n",
    "two[\"Mouse ID\"].value_counts()"
   ]
  },
  {
   "cell_type": "code",
   "execution_count": 15,
   "metadata": {},
   "outputs": [
    {
     "data": {
      "text/html": [
       "<div>\n",
       "<style scoped>\n",
       "    .dataframe tbody tr th:only-of-type {\n",
       "        vertical-align: middle;\n",
       "    }\n",
       "\n",
       "    .dataframe tbody tr th {\n",
       "        vertical-align: top;\n",
       "    }\n",
       "\n",
       "    .dataframe thead th {\n",
       "        text-align: right;\n",
       "    }\n",
       "</style>\n",
       "<table border=\"1\" class=\"dataframe\">\n",
       "  <thead>\n",
       "    <tr style=\"text-align: right;\">\n",
       "      <th></th>\n",
       "      <th>Mouse ID</th>\n",
       "      <th>Drug Regimen</th>\n",
       "      <th>Sex</th>\n",
       "      <th>Age_months</th>\n",
       "      <th>Weight (g)</th>\n",
       "      <th>Timepoint</th>\n",
       "      <th>Tumor Volume (mm3)</th>\n",
       "      <th>Metastatic Sites</th>\n",
       "    </tr>\n",
       "  </thead>\n",
       "  <tbody>\n",
       "    <tr>\n",
       "      <td>908</td>\n",
       "      <td>g989</td>\n",
       "      <td>Propriva</td>\n",
       "      <td>Female</td>\n",
       "      <td>21</td>\n",
       "      <td>26</td>\n",
       "      <td>0</td>\n",
       "      <td>45.000000</td>\n",
       "      <td>0</td>\n",
       "    </tr>\n",
       "    <tr>\n",
       "      <td>909</td>\n",
       "      <td>g989</td>\n",
       "      <td>Propriva</td>\n",
       "      <td>Female</td>\n",
       "      <td>21</td>\n",
       "      <td>26</td>\n",
       "      <td>0</td>\n",
       "      <td>45.000000</td>\n",
       "      <td>0</td>\n",
       "    </tr>\n",
       "    <tr>\n",
       "      <td>910</td>\n",
       "      <td>g989</td>\n",
       "      <td>Propriva</td>\n",
       "      <td>Female</td>\n",
       "      <td>21</td>\n",
       "      <td>26</td>\n",
       "      <td>5</td>\n",
       "      <td>48.786801</td>\n",
       "      <td>0</td>\n",
       "    </tr>\n",
       "    <tr>\n",
       "      <td>911</td>\n",
       "      <td>g989</td>\n",
       "      <td>Propriva</td>\n",
       "      <td>Female</td>\n",
       "      <td>21</td>\n",
       "      <td>26</td>\n",
       "      <td>5</td>\n",
       "      <td>47.570392</td>\n",
       "      <td>0</td>\n",
       "    </tr>\n",
       "    <tr>\n",
       "      <td>912</td>\n",
       "      <td>g989</td>\n",
       "      <td>Propriva</td>\n",
       "      <td>Female</td>\n",
       "      <td>21</td>\n",
       "      <td>26</td>\n",
       "      <td>10</td>\n",
       "      <td>51.745156</td>\n",
       "      <td>0</td>\n",
       "    </tr>\n",
       "    <tr>\n",
       "      <td>913</td>\n",
       "      <td>g989</td>\n",
       "      <td>Propriva</td>\n",
       "      <td>Female</td>\n",
       "      <td>21</td>\n",
       "      <td>26</td>\n",
       "      <td>10</td>\n",
       "      <td>49.880528</td>\n",
       "      <td>0</td>\n",
       "    </tr>\n",
       "    <tr>\n",
       "      <td>914</td>\n",
       "      <td>g989</td>\n",
       "      <td>Propriva</td>\n",
       "      <td>Female</td>\n",
       "      <td>21</td>\n",
       "      <td>26</td>\n",
       "      <td>15</td>\n",
       "      <td>51.325852</td>\n",
       "      <td>1</td>\n",
       "    </tr>\n",
       "    <tr>\n",
       "      <td>915</td>\n",
       "      <td>g989</td>\n",
       "      <td>Propriva</td>\n",
       "      <td>Female</td>\n",
       "      <td>21</td>\n",
       "      <td>26</td>\n",
       "      <td>15</td>\n",
       "      <td>53.442020</td>\n",
       "      <td>0</td>\n",
       "    </tr>\n",
       "    <tr>\n",
       "      <td>916</td>\n",
       "      <td>g989</td>\n",
       "      <td>Propriva</td>\n",
       "      <td>Female</td>\n",
       "      <td>21</td>\n",
       "      <td>26</td>\n",
       "      <td>20</td>\n",
       "      <td>55.326122</td>\n",
       "      <td>1</td>\n",
       "    </tr>\n",
       "    <tr>\n",
       "      <td>917</td>\n",
       "      <td>g989</td>\n",
       "      <td>Propriva</td>\n",
       "      <td>Female</td>\n",
       "      <td>21</td>\n",
       "      <td>26</td>\n",
       "      <td>20</td>\n",
       "      <td>54.657650</td>\n",
       "      <td>1</td>\n",
       "    </tr>\n",
       "    <tr>\n",
       "      <td>918</td>\n",
       "      <td>g989</td>\n",
       "      <td>Propriva</td>\n",
       "      <td>Female</td>\n",
       "      <td>21</td>\n",
       "      <td>26</td>\n",
       "      <td>25</td>\n",
       "      <td>56.045564</td>\n",
       "      <td>1</td>\n",
       "    </tr>\n",
       "    <tr>\n",
       "      <td>919</td>\n",
       "      <td>g989</td>\n",
       "      <td>Propriva</td>\n",
       "      <td>Female</td>\n",
       "      <td>21</td>\n",
       "      <td>26</td>\n",
       "      <td>30</td>\n",
       "      <td>59.082294</td>\n",
       "      <td>1</td>\n",
       "    </tr>\n",
       "    <tr>\n",
       "      <td>920</td>\n",
       "      <td>g989</td>\n",
       "      <td>Propriva</td>\n",
       "      <td>Female</td>\n",
       "      <td>21</td>\n",
       "      <td>26</td>\n",
       "      <td>35</td>\n",
       "      <td>62.570880</td>\n",
       "      <td>2</td>\n",
       "    </tr>\n",
       "  </tbody>\n",
       "</table>\n",
       "</div>"
      ],
      "text/plain": [
       "    Mouse ID Drug Regimen     Sex  Age_months  Weight (g)  Timepoint  \\\n",
       "908     g989     Propriva  Female          21          26          0   \n",
       "909     g989     Propriva  Female          21          26          0   \n",
       "910     g989     Propriva  Female          21          26          5   \n",
       "911     g989     Propriva  Female          21          26          5   \n",
       "912     g989     Propriva  Female          21          26         10   \n",
       "913     g989     Propriva  Female          21          26         10   \n",
       "914     g989     Propriva  Female          21          26         15   \n",
       "915     g989     Propriva  Female          21          26         15   \n",
       "916     g989     Propriva  Female          21          26         20   \n",
       "917     g989     Propriva  Female          21          26         20   \n",
       "918     g989     Propriva  Female          21          26         25   \n",
       "919     g989     Propriva  Female          21          26         30   \n",
       "920     g989     Propriva  Female          21          26         35   \n",
       "\n",
       "     Tumor Volume (mm3)  Metastatic Sites  \n",
       "908           45.000000                 0  \n",
       "909           45.000000                 0  \n",
       "910           48.786801                 0  \n",
       "911           47.570392                 0  \n",
       "912           51.745156                 0  \n",
       "913           49.880528                 0  \n",
       "914           51.325852                 1  \n",
       "915           53.442020                 0  \n",
       "916           55.326122                 1  \n",
       "917           54.657650                 1  \n",
       "918           56.045564                 1  \n",
       "919           59.082294                 1  \n",
       "920           62.570880                 2  "
      ]
     },
     "execution_count": 15,
     "metadata": {},
     "output_type": "execute_result"
    }
   ],
   "source": [
    "#TO RETURN THE RECORDS OF CERTAIN MOUSE ID\n",
    "mouse_sty.loc[mouse_sty[\"Mouse ID\"] == \"g989\"]"
   ]
  },
  {
   "cell_type": "code",
   "execution_count": 16,
   "metadata": {},
   "outputs": [
    {
     "name": "stdout",
     "output_type": "stream",
     "text": [
      "['d133', 'x226', 'v199', 'x336', 'l872', 't573', 'u153', 'n482', 'o848', 'h428', 'f932', 'b447']\n"
     ]
    }
   ],
   "source": [
    "#MOUSE IDS THAT DIDN'T MAKE IT TO THE TIMEPOINT 5\n",
    "\n",
    "mouse_unique = mouse_sty.loc[mouse_sty[\"Timepoint\"] == 0]\n",
    "mouse_zero = list(mouse_unique[\"Mouse ID\"])\n",
    "#print(len(mouse_zero))\n",
    "\n",
    "mouse_unique5 = mouse_sty.loc[mouse_sty[\"Timepoint\"] == 5]\n",
    "mouse_five = list(mouse_unique5[\"Mouse ID\"])\n",
    "#print(mouse_five)\n",
    "\n",
    "print(list(set(mouse_zero) - set(mouse_five)))"
   ]
  },
  {
   "cell_type": "code",
   "execution_count": 17,
   "metadata": {
    "scrolled": true
   },
   "outputs": [
    {
     "data": {
      "text/plain": [
       "Capomulin    230\n",
       "Ramicane     228\n",
       "Ketapril     188\n",
       "Naftisol     186\n",
       "Zoniferol    182\n",
       "Placebo      181\n",
       "Stelasyn     181\n",
       "Ceftamin     178\n",
       "Infubinol    178\n",
       "Propriva     161\n",
       "Name: Drug Regimen, dtype: int64"
      ]
     },
     "execution_count": 17,
     "metadata": {},
     "output_type": "execute_result"
    }
   ],
   "source": [
    "#DATA OBERVATIONS PER DRUG REGIMEN\n",
    "mouse_sty[\"Drug Regimen\"].value_counts()"
   ]
  },
  {
   "cell_type": "code",
   "execution_count": 18,
   "metadata": {},
   "outputs": [
    {
     "data": {
      "text/plain": [
       "Propriva     26\n",
       "Zoniferol    25\n",
       "Naftisol     25\n",
       "Infubinol    25\n",
       "Ceftamin     25\n",
       "Ketapril     25\n",
       "Placebo      25\n",
       "Ramicane     25\n",
       "Capomulin    25\n",
       "Stelasyn     24\n",
       "Name: Drug Regimen, dtype: int64"
      ]
     },
     "execution_count": 18,
     "metadata": {},
     "output_type": "execute_result"
    }
   ],
   "source": [
    "#HOW MANY MICE WHERE ASSIGNATED TO EACH DRUG REGIMEN\n",
    "mouse_sty.loc[mouse_sty[\"Timepoint\"]== 0 ][\"Drug Regimen\"].value_counts()"
   ]
  }
 ],
 "metadata": {
  "anaconda-cloud": {},
  "kernelspec": {
   "display_name": "Python 3",
   "language": "python",
   "name": "python3"
  },
  "language_info": {
   "codemirror_mode": {
    "name": "ipython",
    "version": 3
   },
   "file_extension": ".py",
   "mimetype": "text/x-python",
   "name": "python",
   "nbconvert_exporter": "python",
   "pygments_lexer": "ipython3",
   "version": "3.7.4"
  }
 },
 "nbformat": 4,
 "nbformat_minor": 2
}
